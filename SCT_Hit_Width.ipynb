{
 "cells": [
  {
   "cell_type": "markdown",
   "metadata": {},
   "source": [
    "### SCT Hit Word Study"
   ]
  },
  {
   "cell_type": "markdown",
   "metadata": {},
   "source": [
    "In an SCT cluster word (which falls under an SCT module word), bits 14-12 represent the width of H1 and 30-28 represent the width of Hit2. For more information, see here under module format: https://goo.gl/M4pDzg. We are interested in the distribution of these widths in SCT readout drivers in Lab4."
   ]
  },
  {
   "cell_type": "code",
   "execution_count": 1,
   "metadata": {},
   "outputs": [],
   "source": [
    "import numpy as np\n",
    "import matplotlib.pyplot as plt\n",
    "from scipy import optimize"
   ]
  },
  {
   "cell_type": "markdown",
   "metadata": {},
   "source": [
    "#### Parsing (problematic) SCT input lane"
   ]
  },
  {
   "cell_type": "code",
   "execution_count": 59,
   "metadata": {},
   "outputs": [],
   "source": [
    "# Input lane 7 is SCT lane according to the multiboard file for this run\n",
    "inlane = \"/Users/ChristianHaroldNunez/Desktop/CERN/ATLAS/advanced/SpyDump_20180817_103301/DF_0x2b7f8209.txt\"\n",
    "# Input lane 11 (for comparison)\n",
    "# inlane = \"/Users/ChristianHaroldNunez/Desktop/CERN/ATLAS/advanced/SpyDump_20180817_103301/DF_0x2f7f8209.txt\"\n",
    "\n",
    "with open(inlane) as infile:\n",
    "    laneWords = []\n",
    "    for word_i, word in enumerate(infile):\n",
    "        word = word.strip()\n",
    "        laneWords.append(word)\n",
    "\n",
    "# Buffer is vectorized, now pick out the hit clusters\n",
    "hitClusters = []\n",
    "collectClusters = False\n",
    "for word in laneWords:\n",
    "    if collectClusters:\n",
    "        if word[2:6] == '8000' and word[2:7] != '80000':\n",
    "            continue\n",
    "        elif word[2:6] == 'e0da':\n",
    "            collectClusters = False\n",
    "        else:\n",
    "            hitClusters.append(word)\n",
    "    else:\n",
    "        if word[2:6] == '8000' and word[2:7] != '80000':\n",
    "            collectClusters = True    "
   ]
  },
  {
   "cell_type": "markdown",
   "metadata": {},
   "source": [
    "#### Extracting Hit Width from Hit Clusters and Plotting Result"
   ]
  },
  {
   "cell_type": "code",
   "execution_count": 60,
   "metadata": {},
   "outputs": [],
   "source": [
    "def getHit1Width(hitCluster):\n",
    "    i = int(hitCluster, 16)\n",
    "    return int(bin(i >> 12 & 0b111), 2)\n",
    "\n",
    "def getHit2Width(hitCluster):\n",
    "    i = int(hitCluster, 16)\n",
    "    return int(bin(i >> 28 & 0b111), 2)"
   ]
  },
  {
   "cell_type": "code",
   "execution_count": 61,
   "metadata": {},
   "outputs": [],
   "source": [
    "hit1Widths = []\n",
    "hit2Widths = []\n",
    "for hitCluster in hitClusters:\n",
    "    hit1Widths.append(getHit1Width(hitCluster))\n",
    "    hit2Widths.append(getHit2Width(hitCluster))"
   ]
  },
  {
   "cell_type": "code",
   "execution_count": 62,
   "metadata": {},
   "outputs": [
    {
     "data": {
      "image/png": "[encoded data removed]",
      "text/plain": [
       "<matplotlib.figure.Figure at 0x1519191810>"
      ]
     },
     "metadata": {},
     "output_type": "display_data"
    }
   ],
   "source": [
    "plt.hist(hit1Widths, bins = 6)\n",
    "plt.title(\"Hit1 Widths for SCT Hit Clusters in Inlane 7\")\n",
    "plt.xlabel(\"hit1 width\")\n",
    "plt.ylabel(\"count\")\n",
    "plt.show()"
   ]
  },
  {
   "cell_type": "code",
   "execution_count": 63,
   "metadata": {},
   "outputs": [
    {
     "data": {
      "image/png": "[encoded data removed]",
      "text/plain": [
       "<matplotlib.figure.Figure at 0x111a199d0>"
      ]
     },
     "metadata": {},
     "output_type": "display_data"
    }
   ],
   "source": [
    "plt.hist(hit2Widths, color='orange', bins = 7)\n",
    "plt.title(\"Hit2 Widths for SCT Hit Clusters in Inlane 7\")\n",
    "plt.xlabel(\"hit2 width\")\n",
    "plt.ylabel(\"count\")\n",
    "plt.show()"
   ]
  },
  {
   "cell_type": "code",
   "execution_count": null,
   "metadata": {},
   "outputs": [],
   "source": []
  }
 ],
 "metadata": {
  "kernelspec": {
   "display_name": "Python 2",
   "language": "python",
   "name": "python2"
  },
  "language_info": {
   "codemirror_mode": {
    "name": "ipython",
    "version": 2
   },
   "file_extension": ".py",
   "mimetype": "text/x-python",
   "name": "python",
   "nbconvert_exporter": "python",
   "pygments_lexer": "ipython2",
   "version": "2.7.14"
  }
 },
 "nbformat": 4,
 "nbformat_minor": 2
}
